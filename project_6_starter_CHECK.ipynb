{
 "cells": [
  {
   "cell_type": "markdown",
   "metadata": {},
   "source": [
    "# Project 6: Analyzing Stock Sentiment from Twits\n",
    "## Instructions\n",
    "Each problem consists of a function to implement and instructions on how to implement the function.  The parts of the function that need to be implemented are marked with a `# TODO` comment.\n",
    "\n",
    "## Packages\n",
    "When you implement the functions, you'll only need to you use the packages you've used in the classroom, like [Pandas](https://pandas.pydata.org/) and [Numpy](http://www.numpy.org/). These packages will be imported for you. We recommend you don't add any import statements, otherwise the grader might not be able to run your code.\n",
    "\n",
    "### Load Packages"
   ]
  },
  {
   "cell_type": "code",
   "execution_count": 1,
   "metadata": {},
   "outputs": [],
   "source": [
    "import json\n",
    "import nltk\n",
    "import os\n",
    "import random\n",
    "import re\n",
    "import torch\n",
    "\n",
    "from torch import nn, optim\n",
    "import torch.nn.functional as F\n",
    "\n",
    "#prevent from going idle\n",
    "from workspace_utils import active_session"
   ]
  },
  {
   "cell_type": "markdown",
   "metadata": {},
   "source": [
    "## Introduction\n",
    "When deciding the value of a company, it's important to follow the news. For example, a product recall or natural disaster in a company's product chain. You want to be able to turn this information into a signal. Currently, the best tool for the job is a Neural Network. \n",
    "\n",
    "For this project, you'll use posts from the social media site [StockTwits](https://en.wikipedia.org/wiki/StockTwits). The community on StockTwits is full of investors, traders, and entrepreneurs. Each message posted is called a Twit. This is similar to Twitter's version of a post, called a Tweet. You'll build a model around these twits that generate a sentiment score.\n",
    "\n",
    "We've collected a bunch of twits, then hand labeled the sentiment of each. To capture the degree of sentiment, we'll use a five-point scale: very negative, negative, neutral, positive, very positive. Each twit is labeled -2 to 2 in steps of 1, from very negative to very positive respectively. You'll build a sentiment analysis model that will learn to assign sentiment to twits on its own, using this labeled data.\n",
    "\n",
    "The first thing we should to do, is load the data.\n",
    "\n",
    "## Import Twits \n",
    "### Load Twits Data \n",
    "This JSON file contains a list of objects for each twit in the `'data'` field:\n",
    "\n",
    "```\n",
    "{'data':\n",
    "  {'message_body': 'Neutral twit body text here',\n",
    "   'sentiment': 0},\n",
    "  {'message_body': 'Happy twit body text here',\n",
    "   'sentiment': 1},\n",
    "   ...\n",
    "}\n",
    "```\n",
    "\n",
    "The fields represent the following:\n",
    "\n",
    "* `'message_body'`: The text of the twit.\n",
    "* `'sentiment'`: Sentiment score for the twit, ranges from -2 to 2 in steps of 1, with 0 being neutral.\n",
    "\n",
    "\n",
    "To see what the data look like by printing the first 10 twits from the list. "
   ]
  },
  {
   "cell_type": "code",
   "execution_count": 2,
   "metadata": {},
   "outputs": [
    {
     "name": "stdout",
     "output_type": "stream",
     "text": [
      "[{'message_body': '$FITB great buy at 26.00...ill wait', 'sentiment': 2, 'timestamp': '2018-07-01T00:00:09Z'}, {'message_body': '@StockTwits $MSFT', 'sentiment': 1, 'timestamp': '2018-07-01T00:00:42Z'}, {'message_body': '#STAAnalystAlert for $TDG : Jefferies Maintains with a rating of Hold setting target price at USD 350.00. Our own verdict is Buy  http://www.stocktargetadvisor.com/toprating', 'sentiment': 2, 'timestamp': '2018-07-01T00:01:24Z'}, {'message_body': '$AMD I heard there’s a guy who knows someone who thinks somebody knows something - on StockTwits.', 'sentiment': 1, 'timestamp': '2018-07-01T00:01:47Z'}, {'message_body': '$AMD reveal yourself!', 'sentiment': 0, 'timestamp': '2018-07-01T00:02:13Z'}, {'message_body': '$AAPL Why the drop? I warren Buffet taking out his position?', 'sentiment': 1, 'timestamp': '2018-07-01T00:03:10Z'}, {'message_body': '$BA bears have 1 reason on 06-29 to pay more attention https://dividendbot.com?s=BA', 'sentiment': -2, 'timestamp': '2018-07-01T00:04:09Z'}, {'message_body': '$BAC ok good we&#39;re not dropping in price over the weekend, lol', 'sentiment': 1, 'timestamp': '2018-07-01T00:04:17Z'}, {'message_body': '$AMAT - Daily Chart, we need to get back to above 50.', 'sentiment': 2, 'timestamp': '2018-07-01T00:08:01Z'}, {'message_body': '$GME 3% drop per week after spike... if no news in 3 months, back to 12s... if BO, then bingo... what is the odds?', 'sentiment': -2, 'timestamp': '2018-07-01T00:09:03Z'}]\n"
     ]
    }
   ],
   "source": [
    "with open(os.path.join('..', '..', 'data', 'project_6_stocktwits', 'twits.json'), 'r') as f:\n",
    "    twits = json.load(f)\n",
    "\n",
    "print(twits['data'][:10])"
   ]
  },
  {
   "cell_type": "markdown",
   "metadata": {},
   "source": [
    "### Length of Data\n",
    "Now let's look at the number of twits in dataset. Print the number of twits below."
   ]
  },
  {
   "cell_type": "code",
   "execution_count": 3,
   "metadata": {},
   "outputs": [
    {
     "name": "stdout",
     "output_type": "stream",
     "text": [
      "1548010\n"
     ]
    }
   ],
   "source": [
    "\"\"\"print out the number of twits\"\"\"\n",
    "\n",
    "# TODO Implement \n",
    "print(len(twits['data']))\n"
   ]
  },
  {
   "cell_type": "markdown",
   "metadata": {},
   "source": [
    "### Split Message Body and Sentiment Score"
   ]
  },
  {
   "cell_type": "code",
   "execution_count": 4,
   "metadata": {},
   "outputs": [],
   "source": [
    "messages = [twit['message_body'] for twit in twits['data']]\n",
    "# Since the sentiment scores are discrete, we'll scale the sentiments to 0 to 4 for use in our network\n",
    "sentiments = [twit['sentiment'] + 2 for twit in twits['data']]"
   ]
  },
  {
   "cell_type": "markdown",
   "metadata": {},
   "source": [
    "## Preprocessing the Data\n",
    "With our data in hand we need to preprocess our text. These twits are collected by filtering on ticker symbols where these are denoted with a leader $ symbol in the twit itself. For example,\n",
    "\n",
    "`{'message_body': 'RT @google Our annual look at the year in Google blogging (and beyond) http://t.co/sptHOAh8 $GOOG',\n",
    " 'sentiment': 0}`\n",
    "\n",
    "The ticker symbols don't provide information on the sentiment, and they are in every twit, so we should remove them. This twit also has the `@google` username, again not providing sentiment information, so we should also remove it. We also see a URL `http://t.co/sptHOAh8`. Let's remove these too.\n",
    "\n",
    "The easiest way to remove specific words or phrases is with regex using the `re` module. You can sub out specific patterns with a space:\n",
    "\n",
    "```python\n",
    "re.sub(pattern, ' ', text)\n",
    "```\n",
    "This will substitute a space with anywhere the pattern matches in the text. Later when we tokenize the text, we'll split appropriately on those spaces."
   ]
  },
  {
   "cell_type": "markdown",
   "metadata": {},
   "source": [
    "### Pre-Processing"
   ]
  },
  {
   "cell_type": "code",
   "execution_count": 5,
   "metadata": {},
   "outputs": [
    {
     "name": "stdout",
     "output_type": "stream",
     "text": [
      "[nltk_data] Downloading package wordnet to /root/nltk_data...\n",
      "[nltk_data]   Unzipping corpora/wordnet.zip.\n"
     ]
    }
   ],
   "source": [
    "nltk.download('wordnet')\n",
    "\n",
    "\n",
    "def preprocess(message):\n",
    "    \"\"\"\n",
    "    This function takes a string as input, then performs these operations: \n",
    "        - lowercase\n",
    "        - remove URLs\n",
    "        - remove ticker symbols \n",
    "        - removes punctuation\n",
    "        - tokenize by splitting the string on whitespace \n",
    "        - removes any single character tokens\n",
    "    \n",
    "    Parameters\n",
    "    ----------\n",
    "        message : The text message to be preprocessed.\n",
    "        \n",
    "    Returns\n",
    "    -------\n",
    "        tokens: The preprocessed text into tokens.\n",
    "    \"\"\" \n",
    "    #TODO: Implement \n",
    "    \n",
    "    # Lowercase the twit message\n",
    "    text = message.lower()\n",
    "    \n",
    "    # Replace URLs with a space in the message\n",
    "    text = re.sub(r\"http\\S*\", \" \", text)\n",
    "        \n",
    "    # Replace ticker symbols with a space. The ticker symbols are any stock symbol that starts with $.\n",
    "    text = re.sub(r\"\\$\\S*\",\" \",text)\n",
    "        \n",
    "    # Replace StockTwits usernames with a space. The usernames are any word that starts with @.\n",
    "    text = re.sub(r\"@\\S*\",\" \",text)\n",
    "    \n",
    "    # Replace everything not a letter with a space\n",
    "    text = re.sub(r\"[\\W0-9_]\", \" \", text)\n",
    "    \n",
    "    \n",
    "    # Tokenize by splitting the string on whitespace into a list of words\n",
    "    tokens = text.split()\n",
    "    \n",
    "\n",
    "    # Lemmatize words using the WordNetLemmatizer. You can ignore any word that is not longer than one character.\n",
    "    wnl = nltk.stem.WordNetLemmatizer()\n",
    "    tokens = [wnl.lemmatize(w) for w in tokens if len(w)>1]\n",
    "    \n",
    "    return tokens\n"
   ]
  },
  {
   "cell_type": "markdown",
   "metadata": {},
   "source": [
    "### Preprocess All the Twits \n",
    "Now we can preprocess each of the twits in our dataset. Apply the function `preprocess` to all the twit messages."
   ]
  },
  {
   "cell_type": "code",
   "execution_count": 6,
   "metadata": {},
   "outputs": [],
   "source": [
    "# TODO Implement\n",
    "\n",
    "tokenized = [preprocess(m) for m in messages]\n"
   ]
  },
  {
   "cell_type": "markdown",
   "metadata": {},
   "source": [
    "### Bag of Words\n",
    "Now with all of our messages tokenized, we want to create a vocabulary and count up how often each word appears in our entire corpus. Use the [`Counter`](https://docs.python.org/3.1/library/collections.html#collections.Counter) function to count up all the tokens."
   ]
  },
  {
   "cell_type": "code",
   "execution_count": 7,
   "metadata": {},
   "outputs": [],
   "source": [
    "from collections import Counter\n",
    "\n",
    "\n",
    "\"\"\"\n",
    "Create a vocabulary by using Bag of words\n",
    "\"\"\"\n",
    "\n",
    "# TODO: Implement \n",
    "\n",
    "bow = Counter([w for t in tokenized for w in t])\n"
   ]
  },
  {
   "cell_type": "markdown",
   "metadata": {},
   "source": [
    "### Frequency of Words Appearing in Message\n",
    "With our vocabulary, now we'll remove some of the most common words such as 'the', 'and', 'it', etc. These words don't contribute to identifying sentiment and are really common, resulting in a lot of noise in our input. If we can filter these out, then our network should have an easier time learning.\n",
    "\n",
    "We also want to remove really rare words that show up in a only a few twits. Here you'll want to divide the count of each word by the number of messages. Then remove words that only appear in some small fraction of the messages."
   ]
  },
  {
   "cell_type": "code",
   "execution_count": 23,
   "metadata": {},
   "outputs": [
    {
     "name": "stdout",
     "output_type": "stream",
     "text": [
      "Word Count: 15529983\n",
      "Most Common:  ['at', 'for', 'of', 'is', 'on', 'the', 'to', 'in', 'and', 'this', 'it', 'will', 'up', 'are']\n",
      "# Filtered Words: 24827\n"
     ]
    }
   ],
   "source": [
    "\"\"\"\n",
    "Set the following variables:\n",
    "    freqs\n",
    "    low_cutoff\n",
    "    high_cutoff\n",
    "    K_most_common\n",
    "\"\"\"\n",
    "\n",
    "# TODO Implement \n",
    "\n",
    "# Dictionart that contains the Frequency of words appearing in messages.\n",
    "# The key is the token and the value is the frequency of that word in the corpus.\n",
    "word_count = len([word for sentence in tokenized for word in sentence])\n",
    "print('Word Count:',word_count)\n",
    "freqs = {key: val/word_count for key, val in bow.items()}\n",
    "\n",
    "# Float that is the frequency cutoff. Drop words with a frequency that is lower or equal to this number.\n",
    "low_cutoff = 5/word_count\n",
    "\n",
    "# Integer that is the cut off for most common words. Drop words that are the `high_cutoff` most common words.\n",
    "high_cutoff = 100000/word_count\n",
    "\n",
    "# The k most common words in the corpus. Use `high_cutoff` as the k.\n",
    "K_most_common = [w for w in bow.keys() if freqs[w] > high_cutoff]\n",
    "\n",
    "\n",
    "filtered_words = [word for word in freqs if (freqs[word] > low_cutoff and word not in K_most_common)]\n",
    "print('Most Common: ', K_most_common)\n",
    "print('# Filtered Words:', len(filtered_words)) "
   ]
  },
  {
   "cell_type": "markdown",
   "metadata": {},
   "source": [
    "### Updating Vocabulary by Removing Filtered Words\n",
    "Let's creat three variables that will help with our vocabulary."
   ]
  },
  {
   "cell_type": "code",
   "execution_count": 24,
   "metadata": {},
   "outputs": [],
   "source": [
    "\"\"\"\n",
    "Set the following variables:\n",
    "    vocab\n",
    "    id2vocab\n",
    "    filtered\n",
    "\"\"\"\n",
    "\n",
    "#TODO Implement\n",
    "\n",
    "\n",
    "\n",
    "# A dictionary for the `filtered_words`. The key is the word and value is an id that represents the word. \n",
    "vocab = {fw:index for index, fw in enumerate(filtered_words)}\n",
    "# Reverse of the `vocab` dictionary. The key is word id and value is the word. \n",
    "id2vocab = {index: fw for index, fw in enumerate(filtered_words)}\n",
    "# tokenized with the words not in `filtered_words` removed.\n",
    "words_not_in_filtered_words = [word for word in freqs if (freqs[word] <= low_cutoff or word in K_most_common)]\n",
    "set_filtered_words = set(filtered_words)\n",
    "filtered = [[w for w in t if w in set_filtered_words] for t in tokenized ]\n",
    "\n"
   ]
  },
  {
   "cell_type": "markdown",
   "metadata": {},
   "source": [
    "### Balancing the classes\n",
    "Let's do a few last pre-processing steps. If we look at how our twits are labeled, we'll find that 50% of them are neutral. This means that our network will be 50% accurate just by guessing 0 every single time. To help our network learn appropriately, we'll want to balance our classes.\n",
    "That is, make sure each of our different sentiment scores show up roughly as frequently in the data.\n",
    "\n",
    "What we can do here is go through each of our examples and randomly drop twits with neutral sentiment. What should be the probability we drop these twits if we want to get around 20% neutral twits starting at 50% neutral? We should also take this opportunity to remove messages with length 0."
   ]
  },
  {
   "cell_type": "code",
   "execution_count": 25,
   "metadata": {},
   "outputs": [],
   "source": [
    "balanced = {'messages': [], 'sentiments':[]}\n",
    "\n",
    "n_neutral = sum(1 for each in sentiments if each == 2)\n",
    "N_examples = len(sentiments)\n",
    "keep_prob = (N_examples - n_neutral)/4/n_neutral\n",
    "\n",
    "for idx, sentiment in enumerate(sentiments):\n",
    "    message = filtered[idx]\n",
    "    if len(message) == 0:\n",
    "        # skip this message because it has length zero\n",
    "        continue\n",
    "    elif sentiment != 2 or random.random() < keep_prob:\n",
    "        balanced['messages'].append(message)\n",
    "        balanced['sentiments'].append(sentiment) "
   ]
  },
  {
   "cell_type": "markdown",
   "metadata": {},
   "source": [
    "If you did it correctly, you should see the following result "
   ]
  },
  {
   "cell_type": "code",
   "execution_count": 26,
   "metadata": {},
   "outputs": [
    {
     "data": {
      "text/plain": [
       "0.19527652564030418"
      ]
     },
     "execution_count": 26,
     "metadata": {},
     "output_type": "execute_result"
    }
   ],
   "source": [
    "n_neutral = sum(1 for each in balanced['sentiments'] if each == 2)\n",
    "N_examples = len(balanced['sentiments'])\n",
    "n_neutral/N_examples"
   ]
  },
  {
   "cell_type": "markdown",
   "metadata": {},
   "source": [
    "Finally let's convert our tokens into integer ids which we can pass to the network."
   ]
  },
  {
   "cell_type": "code",
   "execution_count": 27,
   "metadata": {},
   "outputs": [
    {
     "name": "stdout",
     "output_type": "stream",
     "text": [
      "1030682\n",
      "1030682\n"
     ]
    }
   ],
   "source": [
    "token_ids = [[vocab[word] for word in message] for message in balanced['messages']]\n",
    "sentiments = balanced['sentiments']\n",
    "print(len(token_ids))\n",
    "print(len(sentiments))"
   ]
  },
  {
   "cell_type": "markdown",
   "metadata": {},
   "source": [
    "## Neural Network\n",
    "Now we have our vocabulary which means we can transform our tokens into ids, which are then passed to our network. So, let's define the network now!\n",
    "\n",
    "Here is a nice diagram showing the network we'd like to build: \n",
    "\n",
    "#### Embed -> RNN -> Dense -> Softmax\n",
    "### Implement the text classifier\n",
    "Before we build text classifier, if you remember from the other network that you built in  \"Sentiment Analysis with an RNN\"  exercise  - which there, the network called \" SentimentRNN\", here we named it \"TextClassifer\" - consists of three main parts: 1) init function `__init__` 2) forward pass `forward`  3) hidden state `init_hidden`. \n",
    "\n",
    "This network is pretty similar to the network you built expect in the  `forward` pass, we use softmax instead of sigmoid. The reason we are not using sigmoid is that the output of NN is not a binary. In our network, sentiment scores have 5 possible outcomes. We are looking for an outcome with the highest probability thus softmax is a better choice."
   ]
  },
  {
   "cell_type": "code",
   "execution_count": 28,
   "metadata": {},
   "outputs": [],
   "source": [
    "class TextClassifier(nn.Module):\n",
    "    def __init__(self, vocab_size, embed_size, lstm_size, output_size, lstm_layers=1, dropout=0.1):\n",
    "        \"\"\"\n",
    "        Initialize the model by setting up the layers.\n",
    "        \n",
    "        Parameters\n",
    "        ----------\n",
    "            vocab_size : The vocabulary size.\n",
    "            embed_size : The embedding layer size.\n",
    "            lstm_size : The LSTM layer size.\n",
    "            output_size : The output size.\n",
    "            lstm_layers : The number of LSTM layers.\n",
    "            dropout : The dropout probability.\n",
    "        \"\"\"\n",
    "        \n",
    "        super().__init__()\n",
    "        self.vocab_size = vocab_size\n",
    "        self.embed_size = embed_size\n",
    "        self.lstm_size = lstm_size\n",
    "        self.output_size = output_size\n",
    "        self.lstm_layers = lstm_layers\n",
    "        self.dropout = dropout\n",
    "        \n",
    "        # TODO Implement\n",
    "\n",
    "        # Setup embedding layer\n",
    "        self.embedding = nn.Embedding(self.vocab_size, self.embed_size)\n",
    "        \n",
    "        # Setup additional layers\n",
    "        self.lstm = nn.LSTM(self.embed_size, self.lstm_size, self.lstm_layers, bias=False, batch_first=False, dropout=self.dropout)\n",
    "        self.dense = nn.Linear(self.lstm_size, self.output_size)\n",
    "        self.softmax = nn.LogSoftmax(dim=2)\n",
    "\n",
    "\n",
    "    def init_hidden(self, batch_size):\n",
    "        \"\"\" \n",
    "        Initializes hidden state\n",
    "        \n",
    "        Parameters\n",
    "        ----------\n",
    "            batch_size : The size of batches.\n",
    "        \n",
    "        Returns\n",
    "        -------\n",
    "            hidden_state\n",
    "            \n",
    "        \"\"\"\n",
    "        \n",
    "        # TODO Implement \n",
    "        from torch.autograd import Variable\n",
    "        # Create two new tensors with sizes n_layers x batch_size x hidden_dim,\n",
    "        # initialized to zero, for hidden state and cell state of LSTM\n",
    "        \n",
    "        hidden = Variable(next(self.parameters()).data.new(self.lstm_layers, batch_size, self.lstm_size), requires_grad=False)\n",
    "        cell = Variable(next(self.parameters()).data.new(self.lstm_layers, batch_size, self.lstm_size), requires_grad=False)\n",
    "        return hidden.zero_(), cell.zero_()\n",
    "        \n",
    "        \n",
    "    def forward(self, nn_input, hidden_state):\n",
    "        \"\"\"\n",
    "        Perform a forward pass of our model on nn_input.\n",
    "        \n",
    "        Parameters\n",
    "        ----------\n",
    "            nn_input : The batch of input to the NN.\n",
    "            hidden_state : The LSTM hidden state.\n",
    "\n",
    "        Returns\n",
    "        -------\n",
    "            logps: log softmax output\n",
    "            hidden_state: The new hidden state.\n",
    "\n",
    "        \"\"\"        \n",
    "        # TODO Implement \n",
    "        x = self.embedding(nn_input)\n",
    "        x, hidden = self.lstm(x, hidden_state)\n",
    "        x = self.dense(x)\n",
    "        #print(\"output_dense\", x)\n",
    "        x = self.softmax(x)\n",
    "        #print(\"output_softmax\", x)\n",
    "        x= x[-1, :,:]\n",
    "        return x, hidden"
   ]
  },
  {
   "cell_type": "markdown",
   "metadata": {},
   "source": [
    "### View Model"
   ]
  },
  {
   "cell_type": "code",
   "execution_count": 29,
   "metadata": {},
   "outputs": [
    {
     "name": "stdout",
     "output_type": "stream",
     "text": [
      "tensor([[-1.9596, -1.4504, -1.4571, -1.7982, -1.4867],\n",
      "        [-1.9572, -1.4817, -1.4495, -1.7959, -1.4661],\n",
      "        [-1.9308, -1.4714, -1.4570, -1.7824, -1.4952],\n",
      "        [-1.9735, -1.4647, -1.4435, -1.8065, -1.4716]])\n"
     ]
    }
   ],
   "source": [
    "model = TextClassifier(len(vocab), 10, 6, 5, dropout=0.1, lstm_layers=2)\n",
    "model.embedding.weight.data.uniform_(-1, 1)\n",
    "input = torch.randint(0, 1000, (5, 4), dtype=torch.int64)\n",
    "hidden = model.init_hidden(4)\n",
    "\n",
    "logps, _ = model.forward(input, hidden)\n",
    "print(logps)"
   ]
  },
  {
   "cell_type": "markdown",
   "metadata": {},
   "source": [
    "## Training\n",
    "### DataLoaders and Batching\n",
    "Now we should build a generator that we can use to loop through our data. It'll be more efficient if we can pass our sequences in as batches. Our input tensors should look like `(sequence_length, batch_size)`. So if our sequences are 40 tokens long and we pass in 25 sequences, then we'd have an input size of `(40, 25)`.\n",
    "\n",
    "If we set our sequence length to 40, what do we do with messages that are more or less than 40 tokens? For messages with fewer than 40 tokens, we will pad the empty spots with zeros. We should be sure to **left** pad so that the RNN starts from nothing before going through the data. If the message has 20 tokens, then the first 20 spots of our 40 long sequence will be 0. If a message has more than 40 tokens, we'll just keep the first 40 tokens."
   ]
  },
  {
   "cell_type": "code",
   "execution_count": 30,
   "metadata": {},
   "outputs": [],
   "source": [
    "def dataloader(messages, labels, sequence_length=30, batch_size=32, shuffle=False):\n",
    "    \"\"\" \n",
    "    Build a dataloader.\n",
    "    \"\"\"\n",
    "    if shuffle:\n",
    "        indices = list(range(len(messages)))\n",
    "        random.shuffle(indices)\n",
    "        messages = [messages[idx] for idx in indices]\n",
    "        labels = [labels[idx] for idx in indices]\n",
    "\n",
    "    total_sequences = len(messages)\n",
    "\n",
    "    for ii in range(0, total_sequences, batch_size):\n",
    "        batch_messages = messages[ii: ii+batch_size]\n",
    "        \n",
    "        # First initialize a tensor of all zeros\n",
    "        batch = torch.zeros((sequence_length, len(batch_messages)), dtype=torch.int64)\n",
    "        for batch_num, tokens in enumerate(batch_messages):\n",
    "            token_tensor = torch.tensor(tokens)\n",
    "            # Left pad!\n",
    "            start_idx = max(sequence_length - len(token_tensor), 0)\n",
    "            batch[start_idx:, batch_num] = token_tensor[:sequence_length]\n",
    "        \n",
    "        label_tensor = torch.tensor(labels[ii: ii+len(batch_messages)])\n",
    "        \n",
    "        yield batch, label_tensor"
   ]
  },
  {
   "cell_type": "markdown",
   "metadata": {},
   "source": [
    "### Training and  Validation\n",
    "With our data in nice shape, we'll split it into training and validation sets."
   ]
  },
  {
   "cell_type": "code",
   "execution_count": 32,
   "metadata": {},
   "outputs": [],
   "source": [
    "\"\"\"\n",
    "Split data into training and validation datasets. Use an appropriate split size.\n",
    "The features are the `token_ids` and the labels are the `sentiments`.\n",
    "\"\"\"   \n",
    "\n",
    "# TODO Implement \n",
    "num_messages = len(token_ids)\n",
    "num_train = int(num_messages * 0.75)\n",
    "num_valid = int(num_messages * 0.25)\n",
    "train_features = token_ids[:num_train]\n",
    "valid_features = token_ids[num_train:]\n",
    "train_labels = sentiments[:num_train]\n",
    "valid_labels = sentiments[num_train:]\n"
   ]
  },
  {
   "cell_type": "code",
   "execution_count": 33,
   "metadata": {},
   "outputs": [],
   "source": [
    "text_batch, labels = next(iter(dataloader(train_features, train_labels, sequence_length=20, batch_size=64)))\n",
    "model = TextClassifier(len(vocab)+1, 200, 128, 5, dropout=0.)\n",
    "hidden = model.init_hidden(64)\n",
    "logps, hidden = model.forward(text_batch, hidden)"
   ]
  },
  {
   "cell_type": "markdown",
   "metadata": {},
   "source": [
    "### Training\n",
    "It's time to train the neural network!"
   ]
  },
  {
   "cell_type": "code",
   "execution_count": 34,
   "metadata": {},
   "outputs": [
    {
     "data": {
      "text/plain": [
       "TextClassifier(\n",
       "  (embedding): Embedding(24828, 1024)\n",
       "  (lstm): LSTM(1024, 512, num_layers=2, bias=False, dropout=0.2)\n",
       "  (dense): Linear(in_features=512, out_features=5, bias=True)\n",
       "  (softmax): LogSoftmax()\n",
       ")"
      ]
     },
     "execution_count": 34,
     "metadata": {},
     "output_type": "execute_result"
    }
   ],
   "source": [
    "device = torch.device(\"cuda\" if torch.cuda.is_available() else \"cpu\")\n",
    "\n",
    "model = TextClassifier(len(vocab)+1, 1024, 512, 5, lstm_layers=2, dropout=0.2)\n",
    "model.embedding.weight.data.uniform_(-1, 1)\n",
    "model.to(device)"
   ]
  },
  {
   "cell_type": "code",
   "execution_count": 60,
   "metadata": {},
   "outputs": [
    {
     "name": "stdout",
     "output_type": "stream",
     "text": [
      "Starting epoch 1\n",
      "Epoch: 0/5... Step: 100... Loss: 0.697167... Val Loss: 0.742627 Acc: 0.715...\n",
      "Epoch: 0/5... Step: 200... Loss: 0.740467... Val Loss: 0.748781 Acc: 0.717...\n",
      "Epoch: 0/5... Step: 300... Loss: 0.715104... Val Loss: 0.739115 Acc: 0.715...\n",
      "Epoch: 0/5... Step: 400... Loss: 0.665616... Val Loss: 0.736666 Acc: 0.719...\n",
      "Epoch: 0/5... Step: 500... Loss: 0.716132... Val Loss: 0.733036 Acc: 0.721...\n",
      "Epoch: 0/5... Step: 600... Loss: 0.694753... Val Loss: 0.734182 Acc: 0.719...\n",
      "Epoch: 0/5... Step: 700... Loss: 0.708477... Val Loss: 0.732346 Acc: 0.720...\n",
      "Epoch: 0/5... Step: 800... Loss: 0.676088... Val Loss: 0.727082 Acc: 0.721...\n",
      "Epoch: 0/5... Step: 900... Loss: 0.633618... Val Loss: 0.722599 Acc: 0.724...\n",
      "Epoch: 0/5... Step: 1000... Loss: 0.628096... Val Loss: 0.721324 Acc: 0.724...\n",
      "Epoch: 0/5... Step: 1100... Loss: 0.655149... Val Loss: 0.721861 Acc: 0.724...\n",
      "Epoch: 0/5... Step: 1200... Loss: 0.619623... Val Loss: 0.718580 Acc: 0.724...\n",
      "Epoch: 0/5... Step: 1300... Loss: 0.702024... Val Loss: 0.720873 Acc: 0.721...\n",
      "Epoch: 0/5... Step: 1400... Loss: 0.659366... Val Loss: 0.715356 Acc: 0.727...\n",
      "Epoch: 0/5... Step: 1500... Loss: 0.724841... Val Loss: 0.717774 Acc: 0.726...\n",
      "Starting epoch 2\n",
      "Epoch: 1/5... Step: 100... Loss: 0.564957... Val Loss: 0.749222 Acc: 0.719...\n",
      "Epoch: 1/5... Step: 200... Loss: 0.556715... Val Loss: 0.738498 Acc: 0.721...\n",
      "Epoch: 1/5... Step: 300... Loss: 0.539894... Val Loss: 0.753448 Acc: 0.719...\n",
      "Epoch: 1/5... Step: 400... Loss: 0.658669... Val Loss: 0.749638 Acc: 0.716...\n",
      "Epoch: 1/5... Step: 500... Loss: 0.615373... Val Loss: 0.746442 Acc: 0.720...\n",
      "Epoch: 1/5... Step: 600... Loss: 0.661909... Val Loss: 0.746196 Acc: 0.719...\n",
      "Epoch: 1/5... Step: 700... Loss: 0.515225... Val Loss: 0.746689 Acc: 0.719...\n",
      "Epoch: 1/5... Step: 800... Loss: 0.568334... Val Loss: 0.739204 Acc: 0.720...\n",
      "Epoch: 1/5... Step: 900... Loss: 0.539746... Val Loss: 0.740238 Acc: 0.721...\n",
      "Epoch: 1/5... Step: 1000... Loss: 0.627731... Val Loss: 0.742769 Acc: 0.725...\n",
      "Epoch: 1/5... Step: 1100... Loss: 0.610429... Val Loss: 0.737935 Acc: 0.722...\n",
      "Epoch: 1/5... Step: 1200... Loss: 0.582057... Val Loss: 0.738902 Acc: 0.721...\n",
      "Epoch: 1/5... Step: 1300... Loss: 0.647923... Val Loss: 0.735190 Acc: 0.723...\n",
      "Epoch: 1/5... Step: 1400... Loss: 0.610084... Val Loss: 0.737175 Acc: 0.722...\n",
      "Epoch: 1/5... Step: 1500... Loss: 0.658286... Val Loss: 0.731958 Acc: 0.723...\n",
      "Starting epoch 3\n",
      "Epoch: 2/5... Step: 100... Loss: 0.500393... Val Loss: 0.795570 Acc: 0.716...\n",
      "Epoch: 2/5... Step: 200... Loss: 0.517561... Val Loss: 0.798893 Acc: 0.714...\n",
      "Epoch: 2/5... Step: 300... Loss: 0.485581... Val Loss: 0.800896 Acc: 0.713...\n",
      "Epoch: 2/5... Step: 400... Loss: 0.548546... Val Loss: 0.808306 Acc: 0.713...\n",
      "Epoch: 2/5... Step: 500... Loss: 0.509175... Val Loss: 0.797193 Acc: 0.716...\n",
      "Epoch: 2/5... Step: 600... Loss: 0.513676... Val Loss: 0.807230 Acc: 0.715...\n",
      "Epoch: 2/5... Step: 700... Loss: 0.521708... Val Loss: 0.800491 Acc: 0.711...\n",
      "Epoch: 2/5... Step: 800... Loss: 0.502728... Val Loss: 0.797129 Acc: 0.713...\n",
      "Epoch: 2/5... Step: 900... Loss: 0.527477... Val Loss: 0.799697 Acc: 0.715...\n",
      "Epoch: 2/5... Step: 1000... Loss: 0.565959... Val Loss: 0.796562 Acc: 0.716...\n",
      "Epoch: 2/5... Step: 1100... Loss: 0.523431... Val Loss: 0.796471 Acc: 0.715...\n",
      "Epoch: 2/5... Step: 1200... Loss: 0.584673... Val Loss: 0.797651 Acc: 0.717...\n",
      "Epoch: 2/5... Step: 1300... Loss: 0.488711... Val Loss: 0.791553 Acc: 0.715...\n",
      "Epoch: 2/5... Step: 1400... Loss: 0.577880... Val Loss: 0.788425 Acc: 0.714...\n",
      "Epoch: 2/5... Step: 1500... Loss: 0.535376... Val Loss: 0.793194 Acc: 0.717...\n",
      "Starting epoch 4\n",
      "Epoch: 3/5... Step: 100... Loss: 0.374062... Val Loss: 0.897592 Acc: 0.710...\n",
      "Epoch: 3/5... Step: 200... Loss: 0.366875... Val Loss: 0.918545 Acc: 0.707...\n",
      "Epoch: 3/5... Step: 300... Loss: 0.454863... Val Loss: 0.926522 Acc: 0.705...\n",
      "Epoch: 3/5... Step: 400... Loss: 0.436545... Val Loss: 0.897871 Acc: 0.708...\n",
      "Epoch: 3/5... Step: 500... Loss: 0.433916... Val Loss: 0.913518 Acc: 0.707...\n",
      "Epoch: 3/5... Step: 600... Loss: 0.432979... Val Loss: 0.912223 Acc: 0.708...\n",
      "Epoch: 3/5... Step: 700... Loss: 0.489971... Val Loss: 0.909477 Acc: 0.708...\n",
      "Epoch: 3/5... Step: 800... Loss: 0.496731... Val Loss: 0.901660 Acc: 0.708...\n",
      "Epoch: 3/5... Step: 900... Loss: 0.397073... Val Loss: 0.900148 Acc: 0.708...\n",
      "Epoch: 3/5... Step: 1000... Loss: 0.444163... Val Loss: 0.895533 Acc: 0.705...\n"
     ]
    },
    {
     "ename": "KeyboardInterrupt",
     "evalue": "",
     "output_type": "error",
     "traceback": [
      "\u001b[0;31m---------------------------------------------------------------------------\u001b[0m",
      "\u001b[0;31mKeyboardInterrupt\u001b[0m                         Traceback (most recent call last)",
      "\u001b[0;32m<ipython-input-60-b1818849eee5>\u001b[0m in \u001b[0;36m<module>\u001b[0;34m()\u001b[0m\n\u001b[1;32m     21\u001b[0m         \u001b[0msteps\u001b[0m \u001b[0;34m=\u001b[0m \u001b[0;36m0\u001b[0m\u001b[0;34m\u001b[0m\u001b[0m\n\u001b[1;32m     22\u001b[0m         for text_batch, labels in dataloader(\n\u001b[0;32m---> 23\u001b[0;31m                 train_features, train_labels, batch_size=batch_size, sequence_length=20, shuffle=True):\n\u001b[0m\u001b[1;32m     24\u001b[0m             \u001b[0msteps\u001b[0m \u001b[0;34m+=\u001b[0m \u001b[0;36m1\u001b[0m\u001b[0;34m\u001b[0m\u001b[0m\n\u001b[1;32m     25\u001b[0m             \u001b[0mhidden\u001b[0m \u001b[0;34m=\u001b[0m \u001b[0mmodel\u001b[0m\u001b[0;34m.\u001b[0m\u001b[0minit_hidden\u001b[0m\u001b[0;34m(\u001b[0m\u001b[0mlabels\u001b[0m\u001b[0;34m.\u001b[0m\u001b[0mshape\u001b[0m\u001b[0;34m[\u001b[0m\u001b[0;36m0\u001b[0m\u001b[0;34m]\u001b[0m\u001b[0;34m)\u001b[0m\u001b[0;31m#pass\u001b[0m\u001b[0;34m\u001b[0m\u001b[0m\n",
      "\u001b[0;32m<ipython-input-30-b1d8598928b4>\u001b[0m in \u001b[0;36mdataloader\u001b[0;34m(messages, labels, sequence_length, batch_size, shuffle)\u001b[0m\n\u001b[1;32m     20\u001b[0m             \u001b[0;31m# Left pad!\u001b[0m\u001b[0;34m\u001b[0m\u001b[0;34m\u001b[0m\u001b[0m\n\u001b[1;32m     21\u001b[0m             \u001b[0mstart_idx\u001b[0m \u001b[0;34m=\u001b[0m \u001b[0mmax\u001b[0m\u001b[0;34m(\u001b[0m\u001b[0msequence_length\u001b[0m \u001b[0;34m-\u001b[0m \u001b[0mlen\u001b[0m\u001b[0;34m(\u001b[0m\u001b[0mtoken_tensor\u001b[0m\u001b[0;34m)\u001b[0m\u001b[0;34m,\u001b[0m \u001b[0;36m0\u001b[0m\u001b[0;34m)\u001b[0m\u001b[0;34m\u001b[0m\u001b[0m\n\u001b[0;32m---> 22\u001b[0;31m             \u001b[0mbatch\u001b[0m\u001b[0;34m[\u001b[0m\u001b[0mstart_idx\u001b[0m\u001b[0;34m:\u001b[0m\u001b[0;34m,\u001b[0m \u001b[0mbatch_num\u001b[0m\u001b[0;34m]\u001b[0m \u001b[0;34m=\u001b[0m \u001b[0mtoken_tensor\u001b[0m\u001b[0;34m[\u001b[0m\u001b[0;34m:\u001b[0m\u001b[0msequence_length\u001b[0m\u001b[0;34m]\u001b[0m\u001b[0;34m\u001b[0m\u001b[0m\n\u001b[0m\u001b[1;32m     23\u001b[0m \u001b[0;34m\u001b[0m\u001b[0m\n\u001b[1;32m     24\u001b[0m         \u001b[0mlabel_tensor\u001b[0m \u001b[0;34m=\u001b[0m \u001b[0mtorch\u001b[0m\u001b[0;34m.\u001b[0m\u001b[0mtensor\u001b[0m\u001b[0;34m(\u001b[0m\u001b[0mlabels\u001b[0m\u001b[0;34m[\u001b[0m\u001b[0mii\u001b[0m\u001b[0;34m:\u001b[0m \u001b[0mii\u001b[0m\u001b[0;34m+\u001b[0m\u001b[0mlen\u001b[0m\u001b[0;34m(\u001b[0m\u001b[0mbatch_messages\u001b[0m\u001b[0;34m)\u001b[0m\u001b[0;34m]\u001b[0m\u001b[0;34m)\u001b[0m\u001b[0;34m\u001b[0m\u001b[0m\n",
      "\u001b[0;31mKeyboardInterrupt\u001b[0m: "
     ]
    }
   ],
   "source": [
    "\"\"\"\n",
    "Train your model with dropout. Make sure to clip your gradients.\n",
    "Print the training loss, validation loss, and validation accuracy for every 100 steps.\n",
    "\"\"\"\n",
    "#to remove\n",
    "import numpy as np\n",
    "\n",
    "epochs = 5 #pass\n",
    "batch_size = 500 #pass\n",
    "learning_rate = 0.001 #pass \n",
    "\n",
    "print_every = 100 # set to 100\n",
    "criterion = nn.NLLLoss()\n",
    "optimizer = optim.Adam(model.parameters(), lr=learning_rate)\n",
    "model.train()\n",
    "\n",
    "with active_session():\n",
    "    for epoch in range(epochs):\n",
    "        print('Starting epoch {}'.format(epoch + 1))\n",
    "\n",
    "        steps = 0\n",
    "        for text_batch, labels in dataloader(\n",
    "                train_features, train_labels, batch_size=batch_size, sequence_length=20, shuffle=True):\n",
    "            steps += 1\n",
    "            hidden = model.init_hidden(labels.shape[0])#pass\n",
    "            #print(\"text_batch\", text_batch)\n",
    "            #print(\"label\", labels)\n",
    "            # Set Device\n",
    "            text_batch, labels = text_batch.to(device), labels.to(device)\n",
    "            for each in hidden:\n",
    "                each.to(device)\n",
    "\n",
    "            # TODO Implement: Train Model\n",
    "            model.zero_grad()\n",
    "            output, hidden = model(text_batch, hidden)\n",
    "            #print(\"output\", output)\n",
    "            loss = criterion(output.squeeze(), labels.long())\n",
    "            loss.backward()\n",
    "\n",
    "            optimizer.step()\n",
    "\n",
    "            if steps % print_every == 0:\n",
    "                model.eval()\n",
    "\n",
    "                # TODO Implement: Print metrics\n",
    "                val_losses = []\n",
    "                corrects = []\n",
    "                for v_text_batch, v_labels in dataloader(\n",
    "                    valid_features, valid_labels, batch_size=batch_size, sequence_length=20, shuffle=True):\n",
    "                    hidden = model.init_hidden(v_labels.shape[0])\n",
    "                    v_text_batch, v_labels = v_text_batch.to(device), v_labels.to(device)\n",
    "                    for each in hidden:\n",
    "                        each.to(device)\n",
    "                    v_output, hidden = model(v_text_batch, hidden)\n",
    "                    v_loss = criterion(v_output.squeeze(), v_labels.long())\n",
    "                    val_losses.append(v_loss.item())\n",
    "                    v_output2 = torch.argmax(v_output,1)\n",
    "                    corrects.append(((v_output2 == v_labels).float().sum()/v_labels.shape[0]))\n",
    "                    \n",
    "                model.train()\n",
    "                print(\"Epoch: {}/{}...\".format(epoch, epochs),\n",
    "                      \"Step: {}...\".format(steps),\n",
    "                      \"Loss: {:.6f}...\".format(loss.item()),\n",
    "                      \"Val Loss: {:.6f}\".format(np.mean(val_losses)),\n",
    "                      \"Acc: {:.3f}...\".format(np.mean(corrects)))"
   ]
  },
  {
   "cell_type": "code",
   "execution_count": 56,
   "metadata": {},
   "outputs": [
    {
     "name": "stdout",
     "output_type": "stream",
     "text": [
      "tensor([ 3,  0,  2,  2,  3,  4,  3,  2,  4,  4,  3,  1,  3,  0,\n",
      "         1,  4,  2,  3,  4,  0,  0,  3,  4,  2,  4,  2,  3,  2,\n",
      "         3,  1,  1,  0,  3,  4,  3,  3,  0,  1,  1,  1,  4,  3,\n",
      "         1,  3,  4,  0,  0,  2,  1,  0,  4,  1,  3,  2,  4,  2,\n",
      "         0,  4,  2,  2,  3,  3,  3,  0,  0,  0,  2,  1,  3,  4,\n",
      "         4,  4,  4,  2,  2,  3,  0,  3,  3,  2,  4,  0,  0,  2,\n",
      "         3,  3,  4,  1,  3,  0,  3,  1,  3,  4,  2,  1,  0,  3,\n",
      "         3,  3,  1,  4,  4,  4,  3,  4,  3,  3,  4,  1,  3,  1,\n",
      "         3,  0,  3,  2,  1,  2,  1,  4,  3,  2,  4,  4,  2,  0,\n",
      "         1,  0,  1,  0,  3,  3,  4,  0,  0,  0,  1,  1,  4,  2,\n",
      "         4,  4,  1,  4,  0,  3,  3,  0,  0,  1,  3,  1,  4,  4,\n",
      "         2,  4,  1,  3,  2,  1,  2,  1,  3,  0,  2,  3,  2,  3,\n",
      "         0,  4,  4,  3,  3,  4,  4,  3,  4,  1,  3,  2,  0,  0,\n",
      "         1,  2,  3,  1,  2,  1,  4,  4,  1,  1,  2,  0,  2,  2,\n",
      "         0,  3,  2,  1,  2,  1,  1,  1,  4,  3,  0,  2,  4,  0,\n",
      "         2,  4,  0,  1,  4,  1,  1,  1,  4,  3,  3,  2,  2,  2,\n",
      "         2,  4,  2,  0,  3,  4,  3,  4,  2,  3,  0,  0,  3,  3,\n",
      "         0,  2,  4,  4,  3,  4,  1,  4,  4,  4,  3,  3,  2,  1,\n",
      "         1,  3,  2,  0,  3,  3,  1,  3,  3,  2,  3,  3,  2,  3,\n",
      "         4,  4,  2,  4,  2,  2,  2,  3,  2,  3,  2,  0,  4,  1,\n",
      "         2,  0,  4,  2,  4,  3,  0,  1,  0,  3,  1,  2,  0,  4,\n",
      "         3,  1,  2,  2,  2,  0,  0,  0,  2,  3,  0,  4,  4,  2,\n",
      "         2,  0,  2,  4,  3,  1,  2,  2,  4,  4,  3,  4,  4,  1,\n",
      "         4,  4,  4,  4,  4,  4,  1,  3,  2,  0,  3,  4,  3,  0,\n",
      "         4,  2,  2,  4,  0,  0,  4,  4,  0,  3,  2,  1,  2,  3,\n",
      "         2,  1,  4,  3,  0,  1,  4,  4,  1,  3,  1,  0,  0,  0,\n",
      "         1,  0,  3,  4,  4,  3,  2,  3,  2,  4,  2,  1,  1,  4,\n",
      "         3,  4,  0,  1,  0,  3,  4,  4,  4,  4,  4,  1,  1,  3,\n",
      "         3,  3,  0,  3,  3,  3,  3,  0,  4,  2,  3,  0,  2,  2,\n",
      "         4,  1,  4,  4,  3,  2,  0,  4,  1,  3,  3,  3,  0,  4,\n",
      "         4,  1,  4,  2,  3,  0,  2,  1,  4,  3,  1,  4,  1,  2,\n",
      "         3,  3,  3,  3,  4,  3,  0,  1,  3,  4,  0,  0,  1,  0,\n",
      "         1,  4,  0,  4,  0,  4,  4,  0,  0,  3,  3,  4,  1,  2,\n",
      "         1,  3,  3,  4,  2,  2,  3,  1,  0,  2,  0,  4,  2,  3,\n",
      "         1,  0,  2,  4,  2,  3,  1,  0,  1,  0,  3,  1,  1,  3,\n",
      "         3,  4,  1,  1,  0,  1,  4,  4,  1,  4])\n",
      "torch.Size([500, 5])\n",
      "tensor([[-8.9808e+00, -5.8120e+00, -5.1336e+00, -1.2933e-01, -2.1865e+00],\n",
      "        [-2.1767e+00, -6.7903e-01, -1.6960e+00, -1.6994e+00, -4.3235e+00],\n",
      "        [-4.0197e+00, -2.4908e+00, -6.1904e-01, -1.2942e+00, -2.4463e+00],\n",
      "        ...,\n",
      "        [-3.5213e+00, -3.5455e+00, -1.4606e+00, -9.2065e-01, -1.1673e+00],\n",
      "        [-2.8944e+00, -1.7231e+00, -6.0288e-01, -1.8896e+00, -2.6915e+00],\n",
      "        [-6.8993e+00, -4.6471e+00, -3.9026e+00, -2.4671e+00, -1.2287e-01]], device='cuda:0')\n",
      "tensor([ 3,  1,  2,  2,  3,  4,  4,  2,  4,  4,  4,  0,  3,  1,\n",
      "         4,  4,  2,  3,  4,  0,  0,  3,  3,  2,  4,  2,  3,  2,\n",
      "         4,  1,  1,  0,  3,  2,  3,  3,  1,  3,  1,  1,  4,  2,\n",
      "         1,  4,  4,  0,  1,  2,  2,  0,  4,  1,  3,  2,  4,  2,\n",
      "         3,  4,  2,  3,  3,  4,  3,  0,  3,  0,  2,  4,  3,  4,\n",
      "         4,  3,  4,  3,  2,  4,  0,  1,  3,  4,  4,  4,  1,  2,\n",
      "         3,  3,  4,  1,  3,  0,  3,  1,  2,  4,  2,  2,  0,  2,\n",
      "         3,  2,  3,  4,  4,  4,  2,  4,  4,  3,  4,  1,  3,  0,\n",
      "         3,  0,  1,  3,  4,  1,  4,  4,  4,  1,  4,  4,  2,  0,\n",
      "         1,  0,  1,  2,  1,  0,  2,  1,  0,  0,  1,  1,  4,  2,\n",
      "         4,  4,  1,  4,  2,  0,  4,  0,  1,  1,  2,  4,  4,  4,\n",
      "         3,  4,  1,  1,  2,  3,  0,  2,  2,  0,  2,  3,  2,  3,\n",
      "         4,  4,  0,  3,  3,  4,  4,  3,  4,  1,  3,  2,  0,  0,\n",
      "         1,  2,  2,  1,  2,  1,  1,  4,  1,  1,  2,  2,  3,  4,\n",
      "         0,  3,  2,  2,  2,  1,  1,  3,  4,  3,  1,  2,  4,  0,\n",
      "         2,  4,  4,  1,  4,  2,  1,  3,  4,  3,  3,  3,  2,  1,\n",
      "         2,  3,  2,  0,  2,  4,  3,  3,  2,  3,  0,  0,  3,  3,\n",
      "         3,  2,  4,  4,  2,  4,  1,  4,  4,  4,  2,  3,  2,  1,\n",
      "         1,  1,  3,  0,  2,  2,  3,  3,  3,  2,  3,  1,  0,  3,\n",
      "         4,  4,  3,  4,  2,  3,  2,  2,  2,  3,  2,  0,  3,  1,\n",
      "         2,  0,  4,  3,  4,  3,  0,  1,  0,  3,  1,  2,  1,  4,\n",
      "         3,  1,  2,  2,  3,  1,  2,  1,  2,  3,  1,  4,  4,  2,\n",
      "         2,  0,  2,  4,  3,  3,  2,  2,  4,  4,  3,  4,  4,  4,\n",
      "         4,  4,  4,  3,  4,  4,  1,  3,  2,  0,  3,  4,  3,  0,\n",
      "         4,  2,  3,  4,  0,  0,  4,  4,  0,  1,  2,  1,  3,  2,\n",
      "         2,  1,  1,  3,  0,  1,  4,  4,  2,  4,  3,  0,  0,  0,\n",
      "         1,  3,  3,  3,  4,  3,  4,  4,  1,  3,  2,  3,  3,  3,\n",
      "         1,  4,  0,  1,  0,  2,  4,  4,  4,  0,  4,  3,  2,  3,\n",
      "         3,  3,  1,  3,  3,  2,  3,  0,  4,  3,  1,  2,  0,  4,\n",
      "         4,  1,  4,  4,  3,  3,  0,  4,  1,  3,  3,  3,  0,  4,\n",
      "         4,  1,  4,  2,  3,  2,  2,  1,  4,  2,  1,  3,  1,  3,\n",
      "         3,  3,  3,  3,  4,  3,  0,  1,  3,  4,  0,  0,  4,  0,\n",
      "         1,  4,  0,  4,  0,  4,  4,  1,  1,  0,  3,  4,  3,  2,\n",
      "         1,  3,  3,  4,  2,  2,  0,  4,  2,  0,  4,  4,  2,  3,\n",
      "         1,  0,  2,  4,  2,  2,  1,  0,  1,  0,  3,  2,  1,  2,\n",
      "         3,  4,  1,  1,  0,  1,  4,  3,  2,  4], device='cuda:0')\n",
      "torch.Size([500])\n",
      "tensor(350., device='cuda:0')\n",
      "tensor(0.7000, device='cuda:0')\n"
     ]
    }
   ],
   "source": [
    "#THIS CELL IS THERE ONLY FOR CHECK PURPOSES. WILL BE DELETED WHEN SUBMITTED\n",
    "v_text_batch, v_labels = next(dataloader(\n",
    "                    valid_features, valid_labels, batch_size=batch_size, sequence_length=20, shuffle=True))\n",
    "\n",
    "print(v_labels)\n",
    "\n",
    "hidden = model.init_hidden(v_labels.shape[0])\n",
    "v_text_batch, v_labels = v_text_batch.to(device), v_labels.to(device)\n",
    "for each in hidden:\n",
    "    each.to(device)\n",
    "v_output, hidden = model(v_text_batch, hidden)\n",
    "print(v_output.shape)\n",
    "print(v_output)\n",
    "print(torch.argmax(v_output, 1))\n",
    "print(torch.argmax(v_output, 1).shape)\n",
    "v_output = torch.argmax(v_output, 1)\n",
    "correct = (v_output == v_labels).float().sum()\n",
    "print(correct)\n",
    "print(correct / v_labels.shape[0])"
   ]
  },
  {
   "cell_type": "markdown",
   "metadata": {},
   "source": [
    "## Making Predictions\n",
    "### Prediction \n",
    "Okay, now that you have a trained model, try it on some new twits and see if it works appropriately. Remember that for any new text, you'll need to preprocess it first before passing it to the network. Implement the `predict` function to generate the prediction vector from a message."
   ]
  },
  {
   "cell_type": "code",
   "execution_count": 74,
   "metadata": {},
   "outputs": [],
   "source": [
    "def predict(text, model, vocab):\n",
    "    \"\"\" \n",
    "    Make a prediction on a single sentence.\n",
    "\n",
    "    Parameters\n",
    "    ----------\n",
    "        text : The string to make a prediction on.\n",
    "        model : The model to use for making the prediction.\n",
    "        vocab : Dictionary for word to word ids. The key is the word and the value is the word id.\n",
    "\n",
    "    Returns\n",
    "    -------\n",
    "        pred : Prediction vector\n",
    "    \"\"\"    \n",
    "    \n",
    "    # TODO Implement\n",
    "    \n",
    "    tokens = preprocess(text)\n",
    "    \n",
    "    # Filter non-vocab words\n",
    "    tokens = [t for t in tokens if t in set_filtered_words]\n",
    "    \n",
    "    # Convert words to ids\n",
    "    tokens = [vocab[t] for t in tokens]\n",
    "        \n",
    "    # Adding a batch dimension\n",
    "    text_input = [tokens]\n",
    "    text_input = torch.LongTensor(text_input)\n",
    "    # Get the NN output\n",
    "    hidden = model.init_hidden(text_input.shape[1])\n",
    "    \n",
    "    logps, _ = model(text_input, hidden)\n",
    "    # Take the exponent of the NN output to get a range of 0 to 1 for each label.\n",
    "    pred = torch.exp(logps)\n",
    "    \n",
    "    return pred"
   ]
  },
  {
   "cell_type": "code",
   "execution_count": 75,
   "metadata": {},
   "outputs": [
    {
     "data": {
      "text/plain": [
       "tensor([[ 5.4967e-05,  1.3315e-03,  5.4574e-01,  4.5240e-01,  4.7792e-04],\n",
       "        [ 2.8215e-06,  5.5842e-07,  9.9591e-01,  4.0888e-03,  9.3803e-08],\n",
       "        [ 8.7048e-05,  9.9707e-01,  2.5986e-03,  2.3390e-04,  9.0781e-06],\n",
       "        [ 2.2801e-01,  8.2582e-03,  6.8136e-01,  8.2374e-02,  2.8405e-06],\n",
       "        [ 2.7981e-04,  4.4615e-04,  9.9656e-01,  9.6300e-04,  1.7476e-03],\n",
       "        [ 1.5506e-10,  4.2665e-03,  1.8175e-04,  9.0480e-01,  9.0750e-02]])"
      ]
     },
     "execution_count": 75,
     "metadata": {},
     "output_type": "execute_result"
    }
   ],
   "source": [
    "text = \"Google is working on self driving cars, I'm bullish on $goog\"\n",
    "model.eval()\n",
    "model.to(\"cpu\")\n",
    "res = predict(text, model, vocab)\n",
    "res"
   ]
  },
  {
   "cell_type": "markdown",
   "metadata": {},
   "source": [
    "### Questions: What is the prediction of the model? What is the uncertainty of the prediction?\n",
    "** TODO: Answer Question**\n",
    "Regarding this single prediction the output is 1 in a range from -2 to 2, from very negative to very positive. So it is positive. The uncertainty is low, then top value for 1 is 0.90480, second top value for label 2 is 0.09075 and next label -1 is 0.00426, and so on. The secondly scored label lies 10 times lower in score than the first one. So that's quite certain. However the more epochs we train and reduce the error, which after 25 epochs was pushed down to below 0.2, this result would improve by still enlarging the difference in magnite between the first and second scored labels."
   ]
  },
  {
   "cell_type": "markdown",
   "metadata": {},
   "source": [
    "Now we have a trained model and we can make predictions. We can use this model to track the sentiments of various stocks by predicting the sentiments of twits as they are coming in. Now we have a stream of twits. For each of those twits, pull out the stocks mentioned in them and keep track of the sentiments. Remember that in the twits, ticker symbols are encoded with a dollar sign as the first character, all caps, and 2-4 letters, like $AAPL. Ideally, you'd want to track the sentiments of the stocks in your universe and use this as a signal in your larger model(s).\n",
    "\n",
    "## Testing\n",
    "### Load the Data "
   ]
  },
  {
   "cell_type": "code",
   "execution_count": 63,
   "metadata": {},
   "outputs": [],
   "source": [
    "with open(os.path.join('..', '..', 'data', 'project_6_stocktwits', 'test_twits.json'), 'r') as f:\n",
    "    test_data = json.load(f)"
   ]
  },
  {
   "cell_type": "markdown",
   "metadata": {},
   "source": [
    "### Twit Stream"
   ]
  },
  {
   "cell_type": "code",
   "execution_count": 64,
   "metadata": {},
   "outputs": [
    {
     "data": {
      "text/plain": [
       "{'message_body': '$JWN has moved -1.69% on 10-31. Check out the movement and peers at  https://dividendbot.com?s=JWN',\n",
       " 'timestamp': '2018-11-01T00:00:05Z'}"
      ]
     },
     "execution_count": 64,
     "metadata": {},
     "output_type": "execute_result"
    }
   ],
   "source": [
    "def twit_stream():\n",
    "    for twit in test_data['data']:\n",
    "        yield twit\n",
    "\n",
    "next(twit_stream())"
   ]
  },
  {
   "cell_type": "markdown",
   "metadata": {},
   "source": [
    "Using the `prediction` function, let's apply it to a stream of twits."
   ]
  },
  {
   "cell_type": "code",
   "execution_count": 65,
   "metadata": {},
   "outputs": [],
   "source": [
    "def score_twits(stream, model, vocab, universe):\n",
    "    \"\"\" \n",
    "    Given a stream of twits and a universe of tickers, return sentiment scores for tickers in the universe.\n",
    "    \"\"\"\n",
    "    for twit in stream:\n",
    "\n",
    "        # Get the message text\n",
    "        text = twit['message_body']\n",
    "        symbols = re.findall('\\$[A-Z]{2,4}', text)\n",
    "        score = predict(text, model, vocab)\n",
    "\n",
    "        for symbol in symbols:\n",
    "            if symbol in universe:\n",
    "                yield {'symbol': symbol, 'score': score, 'timestamp': twit['timestamp']}"
   ]
  },
  {
   "cell_type": "code",
   "execution_count": 69,
   "metadata": {},
   "outputs": [
    {
     "data": {
      "text/plain": [
       "{'symbol': '$AAPL',\n",
       " 'score': tensor([[ 0.0062,  0.0127,  0.4626,  0.0042,  0.5144],\n",
       "         [ 0.0006,  0.0309,  0.1759,  0.7754,  0.0172]]),\n",
       " 'timestamp': '2018-11-01T00:00:18Z'}"
      ]
     },
     "execution_count": 69,
     "metadata": {},
     "output_type": "execute_result"
    }
   ],
   "source": [
    "universe = {'$BBRY', '$AAPL', '$AMZN', '$BABA', '$YHOO', '$LQMT', '$FB', '$GOOG', '$BBBY', '$JNUG', '$SBUX', '$MU'}\n",
    "score_stream = score_twits(twit_stream(), model, vocab, universe)\n",
    "\n",
    "next(score_stream)"
   ]
  },
  {
   "cell_type": "markdown",
   "metadata": {},
   "source": [
    "That's it. You have successfully built a model for sentiment analysis! "
   ]
  },
  {
   "cell_type": "markdown",
   "metadata": {},
   "source": [
    "## Submission\n",
    "Now that you're done with the project, it's time to submit it. Click the submit button in the bottom right. One of our reviewers will give you feedback on your project with a pass or not passed grade. You can continue to the next section while you wait for feedback."
   ]
  }
 ],
 "metadata": {
  "kernelspec": {
   "display_name": "Python 3",
   "language": "python",
   "name": "python3"
  },
  "language_info": {
   "codemirror_mode": {
    "name": "ipython",
    "version": 3
   },
   "file_extension": ".py",
   "mimetype": "text/x-python",
   "name": "python",
   "nbconvert_exporter": "python",
   "pygments_lexer": "ipython3",
   "version": "3.6.3"
  }
 },
 "nbformat": 4,
 "nbformat_minor": 2
}
